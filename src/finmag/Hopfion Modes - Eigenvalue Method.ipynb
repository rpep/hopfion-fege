{
 "cells": [
  {
   "cell_type": "code",
   "execution_count": 1,
   "metadata": {},
   "outputs": [
    {
     "name": "stdout",
     "output_type": "stream",
     "text": [
      "Trying Finmag path: /tmp/finmag--/src\n"
     ]
    },
    {
     "name": "stderr",
     "output_type": "stream",
     "text": [
      "[2018-12-14 12:38:15] INFO: Finmag logging output will be appended to file: '/home/rp20g15/.finmag/global.log'\n",
      "[2018-12-14 12:38:15] DEBUG: Building modules in 'native'...\n",
      "[2018-12-14 12:38:15] DEBUG: FinMag                              \n",
      "[2018-12-14 12:38:15] DEBUG: Dolfin          2017.1.0             Matplotlib      1.5.1               \n",
      "[2018-12-14 12:38:15] DEBUG: Numpy           1.11.0               Scipy           0.17.0              \n",
      "[2018-12-14 12:38:15] DEBUG: IPython         5.7.0                Python          2.7.12              \n",
      "[2018-12-14 12:38:15] WARNING: Could not determine version of paraview using dpkg.\n",
      "[2018-12-14 12:38:15] WARNING: The package paraview is probably not installed.\n",
      "[2018-12-14 12:38:15] DEBUG: Paraview        None                 Sundials        2.5.0               \n",
      "[2018-12-14 12:38:15] DEBUG: Boost-Python    <unknown>            Linux           Ubuntu 16.04.3 LTS  \n",
      "[2018-12-14 12:38:15] DEBUG: Registering debug signal handler. Press Ctrl-Z any time to stop execution and jump into the debugger.\n"
     ]
    }
   ],
   "source": [
    "import sys\n",
    "import shutil\n",
    "sys.path.append('../src/')\n",
    "from helpers import finmag\n",
    "from finmag.energies import Exchange, DMI, Demag\n",
    "import dolfin as df\n",
    "%load_ext autoreload\n",
    "%autoreload 2"
   ]
  },
  {
   "cell_type": "code",
   "execution_count": 2,
   "metadata": {
    "scrolled": true
   },
   "outputs": [
    {
     "name": "stderr",
     "output_type": "stream",
     "text": [
      "[2018-12-14 12:38:17] INFO: Finmag logging output will be written to file: '/home/rp20g15/hopfion-fege/submission-scripts/unnamed.log' (any old content will be overwritten).\n",
      "[2018-12-14 12:38:17] DEBUG: Creating DataWriter for file 'unnamed.ndt'\n",
      "[2018-12-14 12:38:17] INFO: Creating Sim object name='unnamed', instance_id=0 (rank=0/1).\n",
      "[2018-12-14 12:38:17] DEBUG:    Total number of Sim objects in this session: 1\n",
      "[2018-12-14 12:38:17] INFO: <Mesh of topological dimension 3 (tetrahedra) with 53404 vertices and 270406 cells, ordered>\n",
      "/usr/local/lib/python2.7/dist-packages/aeon/timer.py:35: UserWarning: You are nesting measurements in __init__::LLG.\n",
      "  warnings.warn(\"You are nesting measurements in {}::{}.\".format(name, group))\n",
      "[2018-12-14 12:38:17] DEBUG: Creating LLG object.\n",
      "[2018-12-14 12:38:20] DEBUG: Creating Exchange object with method box-matrix-petsc, in Jacobian.\n",
      "[2018-12-14 12:38:20] DEBUG: Adding interaction Exchange to simulation.\n",
      "[2018-12-14 12:38:24] DEBUG: Creating DMI object with method box-matrix-petsc, in Jacobian.\n",
      "[2018-12-14 12:38:24] DEBUG: Adding interaction DMI to simulation.\n",
      "[2018-12-14 12:38:28] DEBUG: Creating Demag object with solver 'FK'.\n",
      "[2018-12-14 12:38:28] DEBUG: Adding interaction Demag to simulation.\n",
      "[2018-12-14 12:38:28] DEBUG: Using Krylov solver for demag.\n",
      "[2018-12-14 12:38:31] DEBUG: Boundary element matrix uses 1740.27 MB of memory.\n"
     ]
    }
   ],
   "source": [
    "mesh = df.Mesh()\n",
    "h5file = df.HDF5File(mesh.mpi_comm(), 'test_70.0/m_002684.h5', 'r')\n",
    "h5file.read(mesh, 'mesh', False)\n",
    "functionspace = df.VectorFunctionSpace(mesh, 'CG', 1, 3)\n",
    "m = df.Function(functionspace)\n",
    "h5file.read(m, 'm')\n",
    "h5file.close()\n",
    "\n",
    "Ms = 3.84e5  # magnetisation saturation (A/m)\n",
    "A = 8.78e-12  # exchange energy constant (J/m)\n",
    "D = 1.58e-3  # DMI constant (J/m**2)\n",
    "\n",
    "\n",
    "sim = finmag.NormalModeSimulation(mesh, 8e5, unit_length=1e-9)\n",
    "sim.llg.m_field.set(m)\n",
    "sim.add(Exchange(A))\n",
    "sim.add(DMI(D))\n",
    "sim.add(Demag())\n"
   ]
  },
  {
   "cell_type": "code",
   "execution_count": null,
   "metadata": {},
   "outputs": [
    {
     "name": "stderr",
     "output_type": "stream",
     "text": [
      "[2018-12-14 12:38:34] INFO: Creating integrator with backend sundials and arguments {'reltol': 1e-06, 'abstol': 1e-06}.\n",
      "[2018-12-14 12:38:34] DEBUG: Updating get method for steps in TableWriter(name=unnamed.ndt)\n",
      "[2018-12-14 12:38:34] DEBUG: Updating get method for last_step_dt in TableWriter(name=unnamed.ndt)\n",
      "[2018-12-14 12:38:34] DEBUG: Updating get method for dmdt in TableWriter(name=unnamed.ndt)\n",
      "[2018-12-14 12:38:35] DEBUG: Computing basis of the tangent space and transition matrices.\n",
      "[2018-12-14 12:38:35] INFO: Assembling eigenproblem matrix.\n",
      "[2018-12-14 12:38:35] DEBUG: Eigenproblem matrix D will occupy 87035.74 MB of memory.\n",
      "[2018-12-14 12:38:35] DEBUG: Processing row 0/106808  (time elapsed: 0.00 seconds)\n",
      "[2018-12-14 12:41:53] DEBUG: Processing row 50/106808  (time elapsed: 3 min 18.83 seconds, estimated remaining time: 117 h 55 min 37.29 seconds)\n",
      "[2018-12-14 12:44:52] DEBUG: Processing row 100/106808  (time elapsed: 6 min 17.23 seconds, estimated remaining time: 111 h 48 min 49.43 seconds)\n"
     ]
    }
   ],
   "source": [
    "n_eigenmodes = 20 # Calculate the first n_eigenmodes.\n",
    "complex_freqs = sim.compute_normal_modes(n_values=n_eigenmodes)\n",
    "f_array = np.real(complex_freqs[0])\n",
    "\n",
    "np.save('frequencies.npy', f_array)\n",
    "\n",
    "sim.export_eigenmode_animations(n_eigenmodes, directory='eigenmode-anims',\n",
    "                                num_cycles=1,\n",
    "                                num_snapshots_per_cycle=30,\n",
    "                                save_h5=True)"
   ]
  },
  {
   "cell_type": "code",
   "execution_count": null,
   "metadata": {},
   "outputs": [],
   "source": [
    "!pip install joblib --user"
   ]
  },
  {
   "cell_type": "code",
   "execution_count": null,
   "metadata": {},
   "outputs": [],
   "source": [
    "!pw"
   ]
  },
  {
   "cell_type": "code",
   "execution_count": null,
   "metadata": {},
   "outputs": [],
   "source": [
    "!pwd"
   ]
  },
  {
   "cell_type": "code",
   "execution_count": null,
   "metadata": {},
   "outputs": [],
   "source": [
    "!cd /tmp/finmag--/src/finmag/normal_modes/deprecated/"
   ]
  },
  {
   "cell_type": "code",
   "execution_count": null,
   "metadata": {},
   "outputs": [],
   "source": [
    "import cython"
   ]
  },
  {
   "cell_type": "code",
   "execution_count": null,
   "metadata": {},
   "outputs": [],
   "source": [
    "cython.__version__"
   ]
  },
  {
   "cell_type": "code",
   "execution_count": null,
   "metadata": {},
   "outputs": [],
   "source": [
    "import os\n",
    "os.chdir('/tmp/finmag--/src/finmag/normal_modes/deprecated/')"
   ]
  },
  {
   "cell_type": "code",
   "execution_count": null,
   "metadata": {},
   "outputs": [],
   "source": [
    "import numpy as np\n",
    "np.get_include()\n"
   ]
  },
  {
   "cell_type": "code",
   "execution_count": null,
   "metadata": {},
   "outputs": [],
   "source": [
    "!python setup.py build_ext --inplace"
   ]
  },
  {
   "cell_type": "code",
   "execution_count": null,
   "metadata": {},
   "outputs": [],
   "source": []
  },
  {
   "cell_type": "code",
   "execution_count": null,
   "metadata": {},
   "outputs": [],
   "source": [
    "!python -c 'import sys; print(sys.version)'"
   ]
  },
  {
   "cell_type": "code",
   "execution_count": null,
   "metadata": {},
   "outputs": [],
   "source": [
    "!cython --version"
   ]
  },
  {
   "cell_type": "code",
   "execution_count": null,
   "metadata": {},
   "outputs": [],
   "source": [
    "import cython\n",
    "cython.__version__"
   ]
  },
  {
   "cell_type": "code",
   "execution_count": null,
   "metadata": {},
   "outputs": [],
   "source": [
    "import Cython"
   ]
  },
  {
   "cell_type": "code",
   "execution_count": null,
   "metadata": {},
   "outputs": [],
   "source": []
  }
 ],
 "metadata": {
  "kernelspec": {
   "display_name": "Python 3",
   "language": "python",
   "name": "python3"
  },
  "language_info": {
   "codemirror_mode": {
    "name": "ipython",
    "version": 2
   },
   "file_extension": ".py",
   "mimetype": "text/x-python",
   "name": "python",
   "nbconvert_exporter": "python",
   "pygments_lexer": "ipython2",
   "version": "2.7.12"
  }
 },
 "nbformat": 4,
 "nbformat_minor": 2
}
